{
 "cells": [
  {
   "cell_type": "code",
   "execution_count": 1,
   "metadata": {},
   "outputs": [],
   "source": [
    "import torch\n",
    "import numpy as np\n",
    "import json\n",
    "import os\n",
    "import shutil\n",
    "import torch\n",
    "import torch.nn as nn\n",
    "import torch.utils.data\n",
    "from tqdm import tqdm\n",
    "\n",
    "from logger import logger\n",
    "from params import params\n",
    "from vocab import Vocab\n",
    "from dataset import Dataset, collate_fn\n",
    "from beam import Generator\n",
    "from transformer import Model"
   ]
  },
  {
   "cell_type": "code",
   "execution_count": 2,
   "metadata": {},
   "outputs": [
    {
     "data": {
      "text/plain": [
       "('1.3.1', '1.15.4')"
      ]
     },
     "execution_count": 2,
     "metadata": {},
     "output_type": "execute_result"
    }
   ],
   "source": [
    "torch.__version__, np.__version__"
   ]
  },
  {
   "cell_type": "code",
   "execution_count": 3,
   "metadata": {},
   "outputs": [],
   "source": [
    "data_filename = \"../data/squad/data_9.pt\"\n",
    "model_filename = \"../checkpoint/squad/checkpoint_9.pt\"\n",
    "model_statistics_filename = \"../data/squad/model_statistics_9.pt\""
   ]
  },
  {
   "cell_type": "code",
   "execution_count": 4,
   "metadata": {},
   "outputs": [],
   "source": [
    "logger = logger()"
   ]
  },
  {
   "cell_type": "code",
   "execution_count": 5,
   "metadata": {},
   "outputs": [],
   "source": [
    "data = torch.load(data_filename)\n",
    "vocab = data['vocab']\n",
    "params = data['params']\n",
    "model_statistics = torch.load(model_statistics_filename)"
   ]
  },
  {
   "cell_type": "code",
   "execution_count": 15,
   "metadata": {},
   "outputs": [],
   "source": [
    "def prepare_dataloaders(params, data):\n",
    "    '''\n",
    "    作用:\n",
    "    将模型训练集/验证集的输入输出数据构造为batch\n",
    "\n",
    "    输入参数:\n",
    "    params: 参数集合\n",
    "    data: 输入的数据\n",
    "\n",
    "    输出参数:\n",
    "    train_loader: 训练集的dataloader\n",
    "    dev_loader: 验证集的dataloader\n",
    "    '''\n",
    "\n",
    "    logger.info('正在从{}中读取数据'.format(params.dataset_dir))\n",
    "\n",
    "    # 构造train_loader\n",
    "    train_dataset = Dataset(params, data, mode='train')\n",
    "    train_loader = torch.utils.data.DataLoader(\n",
    "        dataset = train_dataset,\n",
    "        num_workers = params.num_workers,\n",
    "        batch_size = params.batch_size,\n",
    "        collate_fn = collate_fn,\n",
    "        shuffle = True\n",
    "    )\n",
    "    logger.info('正在构造train_loader,共有{}个batch'.format(len(train_dataset)))\n",
    "\n",
    "    # 构造dev_loader\n",
    "    dev_dataset = Dataset(params, data, mode='dev')\n",
    "    dev_loader = torch.utils.data.DataLoader(\n",
    "        dataset = dev_dataset,\n",
    "        num_workers = params.num_workers,\n",
    "        batch_size = params.batch_size,\n",
    "        collate_fn = collate_fn,\n",
    "        shuffle = False\n",
    "    )\n",
    "    logger.info('正在构造dev_loader,共有{}个batch'.format(len(dev_dataset)))\n",
    "\n",
    "    return train_loader, dev_loader\n"
   ]
  },
  {
   "cell_type": "code",
   "execution_count": 16,
   "metadata": {},
   "outputs": [
    {
     "name": "stderr",
     "output_type": "stream",
     "text": [
      "2020/03/04 06:16:00 PM:  正在从squad中读取数据 \n",
      "2020/03/04 06:16:00 PM:  正在构造train_loader,共有75722个batch \n",
      "2020/03/04 06:16:00 PM:  正在构造dev_loader,共有18015个batch \n"
     ]
    }
   ],
   "source": [
    "train_loader, dev_loader = prepare_dataloaders(params, data)"
   ]
  },
  {
   "cell_type": "code",
   "execution_count": 10,
   "metadata": {},
   "outputs": [],
   "source": [
    "model = Model(params, vocab).to(params.device)"
   ]
  },
  {
   "cell_type": "code",
   "execution_count": 12,
   "metadata": {},
   "outputs": [
    {
     "data": {
      "text/plain": [
       "<All keys matched successfully>"
      ]
     },
     "execution_count": 12,
     "metadata": {},
     "output_type": "execute_result"
    }
   ],
   "source": [
    "model_params = torch.load(model_filename, map_location=params.device)\n",
    "model.load_state_dict(model_params)"
   ]
  },
  {
   "cell_type": "code",
   "execution_count": null,
   "metadata": {},
   "outputs": [],
   "source": [
    "model.eval()"
   ]
  },
  {
   "cell_type": "code",
   "execution_count": 21,
   "metadata": {
    "scrolled": false
   },
   "outputs": [
    {
     "name": "stdout",
     "output_type": "stream",
     "text": [
      "0 torch.Size([32, 50]) torch.Size([32, 18])\n"
     ]
    }
   ],
   "source": [
    "# predict dev using training method\n",
    "for batch_index, batch in enumerate(dev_loader):\n",
    "    \n",
    "    print(batch_index, batch[0].shape, batch[1].shape)\n",
    "    \n",
    "    break"
   ]
  },
  {
   "cell_type": "code",
   "execution_count": null,
   "metadata": {},
   "outputs": [],
   "source": [
    "# predict dev using inference method\n"
   ]
  }
 ],
 "metadata": {
  "kernelspec": {
   "display_name": "Python 3",
   "language": "python",
   "name": "python3"
  },
  "language_info": {
   "codemirror_mode": {
    "name": "ipython",
    "version": 3
   },
   "file_extension": ".py",
   "mimetype": "text/x-python",
   "name": "python",
   "nbconvert_exporter": "python",
   "pygments_lexer": "ipython3",
   "version": "3.6.5"
  }
 },
 "nbformat": 4,
 "nbformat_minor": 2
}
