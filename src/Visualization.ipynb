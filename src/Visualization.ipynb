{
 "cells": [
  {
   "cell_type": "code",
   "execution_count": null,
   "metadata": {},
   "outputs": [],
   "source": [
    "import matplotlib.pyplot as plt\n",
    "import numpy as np\n",
    "import torch\n",
    "plt.style.use('ggplot')"
   ]
  },
  {
   "cell_type": "code",
   "execution_count": null,
   "metadata": {},
   "outputs": [],
   "source": [
    "data_path = \"../data/squad\"\n",
    "model_statistics_file = \"{}/model_statistics.pt\".format(data_path)"
   ]
  },
  {
   "cell_type": "code",
   "execution_count": null,
   "metadata": {},
   "outputs": [],
   "source": [
    "model_statistics = torch.load(model_statistics_file)"
   ]
  },
  {
   "cell_type": "code",
   "execution_count": null,
   "metadata": {},
   "outputs": [],
   "source": [
    "def plot_losses(training_losses, dev_losses):\n",
    "    fig, axes = plt.subplots(2,1,figsize=(20,10))\n",
    "    ax = axes.flat\n",
    "\n",
    "    ax[0].plot(training_losses, marker='o')\n",
    "\n",
    "    ax[0].set_title(\"Training Losses VS Epochs\")\n",
    "    ax[0].set_ylabel(\"Training Losses\")\n",
    "    ax[0].set_xlabel(\"Epochs\")\n",
    "\n",
    "    ax[1].plot(dev_losses, marker='*')\n",
    "\n",
    "    ax[1].set_title(\"Dev Losses VS Epochs\")\n",
    "    ax[1].set_ylabel(\"Dev Losses\")\n",
    "    ax[1].set_xlabel(\"Epochs\")\n"
   ]
  },
  {
   "cell_type": "code",
   "execution_count": null,
   "metadata": {},
   "outputs": [],
   "source": [
    "plot_losses(model_statistics[\"training_losses\"], model_statistics[\"dev_losses\"])"
   ]
  }
 ],
 "metadata": {
  "kernelspec": {
   "display_name": "Python 3",
   "language": "python",
   "name": "python3"
  },
  "language_info": {
   "codemirror_mode": {
    "name": "ipython",
    "version": 3
   },
   "file_extension": ".py",
   "mimetype": "text/x-python",
   "name": "python",
   "nbconvert_exporter": "python",
   "pygments_lexer": "ipython3",
   "version": "3.6.4"
  }
 },
 "nbformat": 4,
 "nbformat_minor": 2
}
